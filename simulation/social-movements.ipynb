{
 "cells": [
  {
   "cell_type": "code",
   "execution_count": null,
   "metadata": {},
   "outputs": [],
   "source": [
    "import model\n",
    "import matplotlib.pyplot as plt\n",
    "from numpy import linspace\n",
    "\n",
    "SAVE_MODE = True"
   ]
  },
  {
   "cell_type": "code",
   "execution_count": null,
   "metadata": {},
   "outputs": [],
   "source": [
    "model.simulate_broad(   k1_vals=[.9],\n",
    "                        k2_vals=[.2],\n",
    "                        #k3_vals=[.5],\n",
    "                        k4_vals=[.5],\n",
    "                        k5_vals=[.1],\n",
    "                        #k6_vals=[.5],\n",
    "                        #k7_vals=[.5],\n",
    "                        #k8_vals=[.5],\n",
    "                        #iinf_vals=linspace(0.005, 0.1, num=5),\n",
    "                        #isus_vals=linspace(0.1,0.9, num=5),\n",
    "                        nweeks=30)\n",
    "\n",
    "plt.title(\"Case 1 with low k₂\")\n",
    "\n",
    "model.draw(\"case1-lowk2.png\", save_mode=SAVE_MODE)"
   ]
  },
  {
   "cell_type": "code",
   "execution_count": null,
   "metadata": {},
   "outputs": [],
   "source": [
    "model.simulate_broad(   k1_vals=[.9],\n",
    "                        k2_vals=[.8],\n",
    "                        #k3_vals=[.5],\n",
    "                        #k4_vals=[.5],\n",
    "                        k5_vals=[.1],\n",
    "                        #k6_vals=[.5],\n",
    "                        #k7_vals=[.5],\n",
    "                        #k8_vals=[.5],\n",
    "                        #iinf_vals=linspace(0.005, 0.1, num=5),\n",
    "                        #isus_vals=linspace(0.1,0.9, num=5),\n",
    "                        nweeks=13)\n",
    "\n",
    "plt.title(\"Case 1 with high k₂\")\n",
    "model.draw(\"case1-highk2.png\", save_mode=SAVE_MODE)"
   ]
  },
  {
   "cell_type": "code",
   "execution_count": null,
   "metadata": {},
   "outputs": [],
   "source": [
    "model.simulate_broad(   k1_vals=[.7],\n",
    "                        #k2_vals=[.5],\n",
    "                        k3_vals=[.1],\n",
    "                        #k4_vals=[.5],\n",
    "                        k5_vals=[.7],\n",
    "                        #k6_vals=[.5],\n",
    "                        #k7_vals=[.5],\n",
    "                        #k8_vals=[.5],\n",
    "                        #iinf_vals=linspace(0.005, 0.1, num=5),\n",
    "                        #isus_vals=linspace(0.1,0.9, num=5),\n",
    "                        nweeks=13)\n",
    "\n",
    "plt.title(\"Case 2\")\n",
    "model.draw(\"case2-lowk4.png\", save_mode=SAVE_MODE)"
   ]
  },
  {
   "cell_type": "code",
   "execution_count": null,
   "metadata": {},
   "outputs": [],
   "source": [
    "model.simulate_broad(   #k1_vals=[.5],\n",
    "                        #k2_vals=[.5],\n",
    "                        #k3_vals=[.5],\n",
    "                        k4_vals=[.9],\n",
    "                        k5_vals=[.2],\n",
    "                        #k6_vals=[.5],\n",
    "                        #k7_vals=[.5],\n",
    "                        #k8_vals=[.5],\n",
    "                        #iinf_vals=linspace(0.005, 0.1, num=5),\n",
    "                        #isus_vals=linspace(0.1,0.9, num=5),\n",
    "                        nweeks=5*4)\n",
    "\n",
    "plt.title(\"Case 3\")\n",
    "model.draw(\"case3.png\", save_mode=SAVE_MODE)"
   ]
  },
  {
   "cell_type": "code",
   "execution_count": null,
   "metadata": {},
   "outputs": [],
   "source": [
    "model.simulate_broad(   #k1_vals=[.5],\n",
    "                        #k2_vals=[.5],\n",
    "                        k3_vals=[.8],\n",
    "                        #k4_vals=[.5],\n",
    "                        #k5_vals=[.5],\n",
    "                        k6_vals=[.3],\n",
    "                        #k7_vals=[.5],\n",
    "                        #k8_vals=[.5],\n",
    "                        #iinf_vals=linspace(0.005, 0.1, num=5),\n",
    "                        #isus_vals=linspace(0.1,0.9, num=5),\n",
    "                        nweeks=3*4)\n",
    "\n",
    "plt.title(\"Case 5\")\n",
    "model.draw(\"case5.png\", save_mode=SAVE_MODE)"
   ]
  },
  {
   "cell_type": "code",
   "execution_count": null,
   "metadata": {},
   "outputs": [],
   "source": [
    "model.simulate_broad(   #k1_vals=[.5],\n",
    "                        #k2_vals=[.5],\n",
    "                        #k3_vals=[.5],\n",
    "                        k4_vals=[.7],\n",
    "                        k5_vals=[.3],\n",
    "                        #k6_vals=[.5],\n",
    "                        k7_vals=[.3],\n",
    "                        k8_vals=[.7],\n",
    "                        #iinf_vals=linspace(0.005, 0.1, num=5),\n",
    "                        #isus_vals=linspace(0.1,0.9, num=5),\n",
    "                        nweeks=26)\n",
    "\n",
    "plt.title(\"Case 6\")\n",
    "model.draw(\"case6.png\", save_mode=SAVE_MODE)"
   ]
  }
 ],
 "metadata": {
  "kernelspec": {
   "display_name": "Python 3",
   "language": "python",
   "name": "python3"
  },
  "language_info": {
   "codemirror_mode": {
    "name": "ipython",
    "version": 3
   },
   "file_extension": ".py",
   "mimetype": "text/x-python",
   "name": "python",
   "nbconvert_exporter": "python",
   "pygments_lexer": "ipython3",
   "version": "3.10.10"
  },
  "orig_nbformat": 4,
  "vscode": {
   "interpreter": {
    "hash": "916dbcbb3f70747c44a77c7bcd40155683ae19c65e1c03b4aa3499c5328201f1"
   }
  }
 },
 "nbformat": 4,
 "nbformat_minor": 2
}
