{
 "cells": [
  {
   "cell_type": "code",
   "execution_count": 15,
   "metadata": {},
   "outputs": [
    {
     "data": {
      "application/vnd.jupyter.widget-view+json": {
       "model_id": "e0fa910198424d6a89e2c40c8e9e5479",
       "version_major": 2,
       "version_minor": 0
      },
      "text/plain": [
       "interactive(children=(IntSlider(value=0, description='t_lim_lower', max=1), IntSlider(value=10, description='t…"
      ]
     },
     "metadata": {},
     "output_type": "display_data"
    }
   ],
   "source": [
    "from numpy import linspace\n",
    "from scipy.integrate import odeint\n",
    "import matplotlib.pyplot as plt\n",
    "import ipywidgets as widgets\n",
    "\n",
    "def model(y, t, k1,k2,k3,k4,k5,k6,k7,k8,k9,k10,f):\n",
    "\n",
    "    m = y[0]\n",
    "    s = y[1]\n",
    "    a = y[2]\n",
    "    p = y[3]\n",
    "\n",
    "    dmdt = k1*s*(1-m/p) - k2*m\n",
    "    dsdt = k3*s*(1-s/a) + k4*f(t) - k5*s*m\n",
    "    dadt = k6*p + k7*a - k8*a*s/p\n",
    "    dpdt = k9*p - k10*m\n",
    "    \n",
    "    return [dmdt, dsdt, dadt, dpdt]\n",
    "\n",
    "def f(t):\n",
    "    return t\n",
    "\n",
    "@widgets.interact\n",
    "def run_simulation( t_lim_lower = 0\n",
    "                ,   t_lim_upper = 10\n",
    "                ,   m0          = 1\n",
    "                ,   s0          = 1\n",
    "                ,   a0          = 1\n",
    "                ,   p0          = 1\n",
    "                ,   k1          = 1\n",
    "                ,   k2          = 1\n",
    "                ,   k3          = 1\n",
    "                ,   k4          = 1\n",
    "                ,   k5          = 1\n",
    "                ,   k6          = 1\n",
    "                ,   k7          = 1\n",
    "                ,   k8          = 1\n",
    "                ,   k9          = 1\n",
    "                ,   k10         = 1\n",
    "                ):\n",
    "\n",
    "    t_axis = linspace(start = t_lim_lower, stop = t_lim_upper)\n",
    "\n",
    "    simulation = odeint(func    = model \n",
    "                    ,y0      = [m0,s0,a0,p0] \n",
    "                    ,t       = t_axis\n",
    "                    ,args    = (k1,k2,k3,k4,k5,k6,k7,k8,k9,k10,f)\n",
    "                    )\n",
    "\n",
    "    plt.plot(t_axis, simulation)\n",
    "    plt.show()"
   ]
  }
 ],
 "metadata": {
  "kernelspec": {
   "display_name": "Python 3",
   "language": "python",
   "name": "python3"
  },
  "language_info": {
   "codemirror_mode": {
    "name": "ipython",
    "version": 3
   },
   "file_extension": ".py",
   "mimetype": "text/x-python",
   "name": "python",
   "nbconvert_exporter": "python",
   "pygments_lexer": "ipython3",
   "version": "3.10.10"
  },
  "orig_nbformat": 4,
  "vscode": {
   "interpreter": {
    "hash": "e7370f93d1d0cde622a1f8e1c04877d8463912d04d973331ad4851f04de6915a"
   }
  }
 },
 "nbformat": 4,
 "nbformat_minor": 2
}
