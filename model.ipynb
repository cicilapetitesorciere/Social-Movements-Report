{
 "cells": [
  {
   "cell_type": "code",
   "execution_count": 91,
   "metadata": {},
   "outputs": [
    {
     "data": {
      "application/vnd.jupyter.widget-view+json": {
       "model_id": "7ee9221e7c034d7f811afe1ba9711515",
       "version_major": 2,
       "version_minor": 0
      },
      "text/plain": [
       "interactive(children=(IntSlider(value=0, description='t_lim_lower', max=1), IntSlider(value=10, description='t…"
      ]
     },
     "metadata": {},
     "output_type": "display_data"
    }
   ],
   "source": [
    "from numpy import linspace\n",
    "from scipy.integrate import odeint\n",
    "import matplotlib.pyplot as plt\n",
    "import ipywidgets as widgets\n",
    "from typing import Tuple, Callable, List, Final\n",
    "\n",
    "INFECTED_ENUM: Final = 0\n",
    "EXPOSED_ENUM: Final = 1\n",
    "SUSCEPTIBLE_ENUM: Final = 2\n",
    "\n",
    "def model(\n",
    "    y: List[float],\n",
    "    t: float,\n",
    "    k1: float,\n",
    "    k2: float,\n",
    "    k3: float,\n",
    "    k4: float,\n",
    "    k5: float,\n",
    "    k6: float,\n",
    "    k7: float,\n",
    "    k8: float,\n",
    "    population: Callable[[float], int],\n",
    "    trending: Callable[[float], int]\n",
    ") -> List[float]:\n",
    "    \n",
    "    infected: float = y[INFECTED_ENUM]\n",
    "    exposed: float = y[EXPOSED_ENUM]\n",
    "    susceptible: float = y[SUSCEPTIBLE_ENUM]\n",
    "\n",
    "    dy: List[float] = [0,0,0]\n",
    "\n",
    "    dy[INFECTED_ENUM] = k1*exposed*(1-infected/population(t)) - k2*infected\n",
    "    dy[EXPOSED_ENUM] = k3*exposed*(1-infected/susceptible) - k4*trending(t) - k5*exposed*infected\n",
    "    dy[SUSCEPTIBLE_ENUM] = k6*population(t) + k7*exposed - k8*susceptible*exposed/population(t)\n",
    "\n",
    "    return dy\n",
    "\n",
    "\n",
    "def population(t: float) -> int:\n",
    "    return 1\n",
    "\n",
    "def trending(t: float) -> int:\n",
    "    return 100\n",
    "\n",
    "\n",
    "@widgets.interact\n",
    "def run_simulation(\n",
    "    t_lim_lower: float = 0,\n",
    "    t_lim_upper: float = 10,\n",
    "    initial_infected: float = 3,\n",
    "    initial_exposed: float = 0,\n",
    "    initial_susceptible: float = 0,\n",
    "    k1: float = 1,\n",
    "    k2: float = 1,\n",
    "    k3: float = 1,\n",
    "    k4: float = 1,\n",
    "    k5: float = 1,\n",
    "    k6: float = 1,\n",
    "    k7: float = 1,\n",
    "    k8: float = 1,\n",
    "):\n",
    "    t_axis: List[float] = linspace(start=t_lim_lower, stop=t_lim_upper, num=100)\n",
    "\n",
    "    initial_y = [0,0,0]\n",
    "\n",
    "    initial_y[INFECTED_ENUM] = initial_infected\n",
    "    initial_y[EXPOSED_ENUM] = initial_exposed\n",
    "    initial_y[SUSCEPTIBLE_ENUM] = initial_susceptible\n",
    "\n",
    "    simulation: List[List[float]] = odeint(\n",
    "        func=model,\n",
    "        y0=initial_y,\n",
    "        t=t_axis,\n",
    "        args=(k1, k2, k3, k4, k5, k6, k7, k8, population, trending),\n",
    "    )\n",
    "\n",
    "    plt.plot(t_axis, simulation[:,INFECTED_ENUM], label=\"Engaged in the social movement\")\n",
    "    #plt.plot(t_axis, simulation[:,EXPOSED_ENUM], label=\"Aware of the movement\")\n",
    "    #plt.plot(t_axis, simulation[:,SUSCEPTIBLE_ENUM], label=\"Active users\")\n",
    "    plt.legend()\n",
    "    plt.show()"
   ]
  }
 ],
 "metadata": {
  "kernelspec": {
   "display_name": "Python 3",
   "language": "python",
   "name": "python3"
  },
  "language_info": {
   "codemirror_mode": {
    "name": "ipython",
    "version": 3
   },
   "file_extension": ".py",
   "mimetype": "text/x-python",
   "name": "python",
   "nbconvert_exporter": "python",
   "pygments_lexer": "ipython3",
   "version": "3.10.10"
  },
  "orig_nbformat": 4,
  "vscode": {
   "interpreter": {
    "hash": "e7370f93d1d0cde622a1f8e1c04877d8463912d04d973331ad4851f04de6915a"
   }
  }
 },
 "nbformat": 4,
 "nbformat_minor": 2
}
