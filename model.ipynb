{
 "cells": [
  {
   "cell_type": "code",
   "execution_count": 1,
   "metadata": {},
   "outputs": [
    {
     "data": {
      "application/vnd.jupyter.widget-view+json": {
       "model_id": "a5a78df60c024a188eedc8a784855739",
       "version_major": 2,
       "version_minor": 0
      },
      "text/plain": [
       "interactive(children=(IntSlider(value=0, description='t_lim_lower', max=1), IntSlider(value=10, description='t…"
      ]
     },
     "metadata": {},
     "output_type": "display_data"
    }
   ],
   "source": [
    "from numpy import linspace\n",
    "from scipy.integrate import odeint\n",
    "import matplotlib.pyplot as plt\n",
    "import ipywidgets as widgets\n",
    "from typing import Tuple, Callable, List\n",
    "\n",
    "\n",
    "def model(\n",
    "    y: Tuple[float, float, float, float],\n",
    "    t: float,\n",
    "    k1: float,\n",
    "    k2: float,\n",
    "    k3: float,\n",
    "    k4: float,\n",
    "    k5: float,\n",
    "    k6: float,\n",
    "    k7: float,\n",
    "    k8: float,\n",
    "    k9: float,\n",
    "    k10: float,\n",
    "    f: Callable[[float], float],\n",
    ") -> Tuple[float, float, float, float]:\n",
    "    m: float = y[0]\n",
    "    s: float = y[1]\n",
    "    a: float = y[2]\n",
    "    p: float = y[3]\n",
    "\n",
    "    dmdt: float = k1 * s * (1 - m / p) - k2 * m\n",
    "    dsdt: float = k3 * s * (1 - s / a) + k4 * f(t) - k5 * s * m\n",
    "    dadt: float = k6 * p + k7 * a - k8 * a * s / p\n",
    "    dpdt: float = k9 * p - k10 * m\n",
    "\n",
    "    return (dmdt, dsdt, dadt, dpdt)\n",
    "\n",
    "\n",
    "def f(t: float) -> float:\n",
    "    return t\n",
    "\n",
    "\n",
    "@widgets.interact\n",
    "def run_simulation(\n",
    "    t_lim_lower: float = 0,\n",
    "    t_lim_upper: float = 10,\n",
    "    m0: float = 1,\n",
    "    s0: float = 1,\n",
    "    a0: float = 1,\n",
    "    p0: float = 1,\n",
    "    k1: float = 1,\n",
    "    k2: float = 1,\n",
    "    k3: float = 1,\n",
    "    k4: float = 1,\n",
    "    k5: float = 1,\n",
    "    k6: float = 1,\n",
    "    k7: float = 1,\n",
    "    k8: float = 1,\n",
    "    k9: float = 1,\n",
    "    k10: float = 1,\n",
    "):\n",
    "    t_axis: List[float] = linspace(start=t_lim_lower, stop=t_lim_upper)\n",
    "\n",
    "    simulation: List[Tuple[float, float, float, float]] = odeint(\n",
    "        func=model,\n",
    "        y0=(m0, s0, a0, p0),\n",
    "        t=t_axis,\n",
    "        args=(k1, k2, k3, k4, k5, k6, k7, k8, k9, k10, f),\n",
    "    )\n",
    "\n",
    "    plt.plot(t_axis, simulation)\n",
    "    plt.show()"
   ]
  }
 ],
 "metadata": {
  "kernelspec": {
   "display_name": "Python 3",
   "language": "python",
   "name": "python3"
  },
  "language_info": {
   "codemirror_mode": {
    "name": "ipython",
    "version": 3
   },
   "file_extension": ".py",
   "mimetype": "text/x-python",
   "name": "python",
   "nbconvert_exporter": "python",
   "pygments_lexer": "ipython3",
   "version": "3.10.10"
  },
  "orig_nbformat": 4,
  "vscode": {
   "interpreter": {
    "hash": "e7370f93d1d0cde622a1f8e1c04877d8463912d04d973331ad4851f04de6915a"
   }
  }
 },
 "nbformat": 4,
 "nbformat_minor": 2
}
